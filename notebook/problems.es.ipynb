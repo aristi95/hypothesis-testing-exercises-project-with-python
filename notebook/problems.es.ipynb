{
 "cells": [
  {
   "cell_type": "markdown",
   "id": "d9d036c6",
   "metadata": {},
   "source": [
    "# Problemas de prueba de hipótesis"
   ]
  },
  {
   "cell_type": "markdown",
   "id": "d157c4db",
   "metadata": {},
   "source": [
    "## Ejercicio 1\n",
    "\n",
    "Usted es un nutricionista que investiga dos tipos diferentes de dietas para ver si existe una diferencia significativa en la pérdida de peso después de un mes. Eliges dos grupos aleatorios de personas; un grupo sigue la primera dieta y el otro sigue la segunda. Al final del mes, se registra la pérdida de peso (en kg) de cada persona:\n",
    "\n",
    "| Diet 1 | Diet 2 |\n",
    "|:-------|:-------|\n",
    "| 2.0 | 3.0 |\n",
    "| 2.5 | 3.2 |\n",
    "| 3.0 | 3.1 |\n",
    "| 2.8 | 2.9 |\n",
    "| 2.3 | 2.8 |\n",
    "| 2.7 | 3.0 |\n",
    "| 2.5 | 3.2 |\n",
    "\n",
    "Con estos datos se busca responder a la siguiente pregunta: ¿Existe una diferencia significativa en la pérdida de peso promedio entre las personas que siguieron la primera dieta y las que siguieron la segunda dieta?\n",
    "\n",
    "Para sacar conclusiones, siga los siguientes puntos:\n",
    "\n",
    "-Enunciar la hipótesis: hipótesis nula y alternativa.\n",
    "-Realizar la prueba para comprobar la hipótesis. Puede utilizar la prueba t de Student.\n",
    "-Analizar las conclusiones."
   ]
  },
  {
   "cell_type": "markdown",
   "id": "1e2033e0",
   "metadata": {},
   "source": [
    "Hipótesis nula: No hay diferencia significativa entre las medias de las dos dietas, es decir, las medias de diet1 y diet2 son iguales.\n",
    "\n",
    "Hipótesis alternativa: Hay una diferencia significativa entre las medias de las dos dietas, es decir, las medias de diet1 y diet2 no son iguales."
   ]
  },
  {
   "cell_type": "code",
   "execution_count": null,
   "id": "8e0f3cf0",
   "metadata": {},
   "outputs": [
    {
     "name": "stdout",
     "output_type": "stream",
     "text": [
      "Estadístico t: -3.5383407969933938\n",
      "Valor p: 0.004083270191713912\n"
     ]
    }
   ],
   "source": [
    "import numpy as np\n",
    "from scipy.stats import ttest_ind\n",
    "\n",
    "diet1 = np.array([2.0, 2.5, 3.0, 2.8, 2.3, 2.7, 2.5])\n",
    "diet2 = np.array([3.0, 3.2, 3.1, 2.9, 2.8, 3.0, 3.2])\n",
    "\n",
    "# Aplicar la prueba t de Student para muestras independientes\n",
    "t_stat, p_valor = ttest_ind(diet1, diet2)\n",
    "\n",
    "print(f\"Estadístico t: {t_stat}\")\n",
    "print(f\"Valor p: {p_valor}\")\n"
   ]
  },
  {
   "cell_type": "code",
   "execution_count": 11,
   "id": "88ad21c3",
   "metadata": {},
   "outputs": [
    {
     "name": "stdout",
     "output_type": "stream",
     "text": [
      "Rechazamos la hipótesis nula: hay una diferencia significativa entre las dietas.\n"
     ]
    }
   ],
   "source": [
    "alfa = 0.05\n",
    "\n",
    "if p_valor < alfa:\n",
    "    print(\"Rechazamos la hipótesis nula: hay una diferencia significativa entre las dietas.\")\n",
    "else:\n",
    "    print(\"No se rechaza la hipótesis nula: no hay una diferencia significativa entre las dietas.\")\n"
   ]
  },
  {
   "cell_type": "markdown",
   "id": "f432e18e",
   "metadata": {},
   "source": [
    "## ANOVA\n",
    "\n",
    "**ANOVA** (*Analysis of Variance - Análisis de variación*) Es una técnica estadística utilizada para comparar las medidas de dos o más grupos. La idea detrás de ANOVA es descomponer la variabilidad total de los datos en dos componentes: variabilidad entre grupos y variabilidad dentro de los grupos:\n",
    "\n",
    "- **Variabilidad entre grupos**: Esta variabilidad se refiere a las diferencias entre las medias del grupo. Si esta variabilidad es considerablemente mayor que la variabilidad dentro del grupo, podría ser una indicación de que al menos una de las medias del grupo es diferente.\n",
    "- **Variabilidad dentro del grupo**: Esta variabilidad se refiere a la dispersión de los datos dentro de cada grupo. Si todos los grupos tienen una variabilidad similar, entonces cualquier diferencia notable en las medias de los grupos podría considerarse significativa.\n",
    "\n",
    "Las hipótesis en ANOVA suelen incluir:\n",
    "\n",
    "- **Hipótesis nula** ($H₀$): Las medias de todos los grupos son iguales.\n",
    "- **Hipótesis alternativa** ($H₁$): Al menos una de las medias del grupo es diferente.\n",
    "\n",
    "Si el resultado de la prueba ANOVA es significativo (por ejemplo, un valor p inferior a un umbral como 0,05), esto sugiere que al menos la media de un grupo es diferente."
   ]
  },
  {
   "cell_type": "markdown",
   "id": "fc5f3721",
   "metadata": {},
   "source": [
    "## Ejercicio 2\n",
    "\n",
    "Un agricultor decide probar tres tipos diferentes de fertilizantes para determinar si alguno es superior en términos de producción de maíz. El agricultor planta maíz en 15 parcelas idénticas y utiliza los tres fertilizantes (5 parcelas para cada tipo). Al final de la temporada mide el rendimiento de maíz (en kg) de cada parcela, con el siguiente resultado:\n",
    "\n",
    "| Fertilizante 1 | Fertilizante 2 | Fertilizante 3 |\n",
    "|:-------------|:-------------|:-------------|\n",
    "| 20 | 22 | 24 |\n",
    "| 21 | 21 | 23 |\n",
    "| 20 | 23 | 22 |\n",
    "| 19 | 22 | 23 |\n",
    "| 20 | 21 | 24 |\n",
    "\n",
    "Con estos datos busca responder la siguiente pregunta: ¿Existe una diferencia significativa en el rendimiento promedio del maíz entre los tres tipos de fertilizantes?\n",
    "\n",
    "Para ayudarte, sigue los siguientes puntos:\n",
    "\n",
    "-Enunciar la hipótesis: hipótesis nula y alternativa.\n",
    "-Realizar la prueba ANOVA.\n",
    "-Analizar las conclusiones.\n",
    "-Si un fertilizante es mejor que otro, ¿cómo podemos saberlo?"
   ]
  },
  {
   "cell_type": "markdown",
   "id": "16464e9a",
   "metadata": {},
   "source": [
    "Hipótesis nula: No hay diferencia significativa en el rendimiento promedio entre los tres fertilizantes.\n",
    "\n",
    "Hipótesis alternativa: Al menos uno de los fertilizantes tiene un rendimiento promedio diferente."
   ]
  },
  {
   "cell_type": "code",
   "execution_count": 12,
   "id": "eecad0ca",
   "metadata": {},
   "outputs": [
    {
     "name": "stdout",
     "output_type": "stream",
     "text": [
      "Estadístico F: 20.3158\n",
      "Valor p: 0.0001\n"
     ]
    }
   ],
   "source": [
    "import numpy as np\n",
    "from scipy import stats\n",
    "\n",
    "fertilizante1 = np.array([20, 21, 20, 19, 20])\n",
    "fertilizante2 = np.array([22, 21, 23, 22, 21])\n",
    "fertilizante3 = np.array([24, 23, 22, 23, 24])\n",
    "\n",
    "# Prueba ANOVA de una vía\n",
    "f_statistic, p_value = stats.f_oneway(fertilizante1, fertilizante2, fertilizante3)\n",
    "\n",
    "print(f\"Estadístico F: {f_statistic:.4f}\")\n",
    "print(f\"Valor p: {p_value:.4f}\")"
   ]
  },
  {
   "cell_type": "code",
   "execution_count": 14,
   "id": "985dc3df",
   "metadata": {},
   "outputs": [
    {
     "name": "stdout",
     "output_type": "stream",
     "text": [
      "Rechazamos la hipótesis nula: hay diferencia significativa en el rendimiento promedio entre los tres fertilizantes.\n"
     ]
    }
   ],
   "source": [
    "alfa = 0.05\n",
    "\n",
    "if p_value < alfa:\n",
    "    print(\"Rechazamos la hipótesis nula: hay diferencia significativa en el rendimiento promedio entre los tres fertilizantes.\")\n",
    "else:\n",
    "    print(\"No se rechaza la hipótesis nula: no hay una diferencia significativa en el rendimiento promedio entre los tres fertilizantes.\")"
   ]
  },
  {
   "cell_type": "markdown",
   "id": "b32af35f",
   "metadata": {},
   "source": [
    "Si se rechaza la hipótesis nula, hay que hacer una prueba post hoc (como Tukey HSD) para identificar cuáles grupos son diferentes entre sí."
   ]
  },
  {
   "cell_type": "code",
   "execution_count": 15,
   "id": "da29ffc0",
   "metadata": {},
   "outputs": [
    {
     "name": "stdout",
     "output_type": "stream",
     "text": [
      "Multiple Comparison of Means - Tukey HSD, FWER=0.05\n",
      "==================================================\n",
      "group1 group2 meandiff p-adj  lower  upper  reject\n",
      "--------------------------------------------------\n",
      "    F1     F2      1.8 0.0099 0.4572 3.1428   True\n",
      "    F1     F3      3.2 0.0001 1.8572 4.5428   True\n",
      "    F2     F3      1.4 0.0409 0.0572 2.7428   True\n",
      "--------------------------------------------------\n"
     ]
    }
   ],
   "source": [
    "import pandas as pd\n",
    "import statsmodels.api as sm\n",
    "from statsmodels.stats.multicomp import pairwise_tukeyhsd\n",
    "\n",
    "# Combinar los datos en un solo DataFrame\n",
    "data = np.concatenate([fertilizante1, fertilizante2, fertilizante3])\n",
    "grupos = ['F1'] * 5 + ['F2'] * 5 + ['F3'] * 5\n",
    "\n",
    "df = pd.DataFrame({'rendimiento': data, 'fertilizante': grupos})\n",
    "\n",
    "# Prueba de Tukey HSD\n",
    "tukey = pairwise_tukeyhsd(endog=df['rendimiento'], groups=df['fertilizante'], alpha=0.05)\n",
    "print(tukey)"
   ]
  },
  {
   "cell_type": "markdown",
   "id": "48657156",
   "metadata": {},
   "source": [
    "Todas las comparaciones entre fertilizantes rechazan la hipótesis nula (reject = True), por lo que:\n",
    "\n",
    "- F2 rinde significativamente más que F1.\n",
    "\n",
    "- F3 rinde significativamente más que F1 y F2."
   ]
  },
  {
   "cell_type": "markdown",
   "id": "9f0020c7",
   "metadata": {},
   "source": [
    "CONCLUSIÓN:\n",
    "\n",
    "- Sí, existe una diferencia significativa en el rendimiento.\n",
    "\n",
    "- El fertilizante 3 (F3) es el que da el mayor rendimiento promedio de maíz."
   ]
  }
 ],
 "metadata": {
  "kernelspec": {
   "display_name": "Python 3",
   "language": "python",
   "name": "python3"
  },
  "language_info": {
   "codemirror_mode": {
    "name": "ipython",
    "version": 3
   },
   "file_extension": ".py",
   "mimetype": "text/x-python",
   "name": "python",
   "nbconvert_exporter": "python",
   "pygments_lexer": "ipython3",
   "version": "3.11.4"
  }
 },
 "nbformat": 4,
 "nbformat_minor": 5
}
